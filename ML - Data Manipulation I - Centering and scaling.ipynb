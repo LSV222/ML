{
 "cells": [
  {
   "cell_type": "markdown",
   "id": "7af264c1",
   "metadata": {},
   "source": [
    "Muchos modelos usan explicita o implicitamente algun tipo de distancia. Un ejemplo muy claro es KNN\n",
    "Esto nos genera que las variables con rangos muy diferentes, puedan empeorar las decisiones de nuestro modelo. Por lo que se propone escalar ( y potencialmente centrar) nuestra data.\n",
    "\n",
    "Metodos: \n",
    ".Estandarizacion : (tipo la estandarizacion de la normal )  se resta la media para centrar los datos en 0 y se divide por la varianza (para tener varianza 1)\n",
    ".Restar el minimo y dividir por el rango :  genera que los datos estaran entre 0 y 1\n",
    "\n",
    "Hay varios otros metodos, que ademas son directos con scikit-learn\n",
    "\n",
    "OBS: tambien separar nuestra data antes de scalar para evitar data leakeage"
   ]
  },
  {
   "cell_type": "code",
   "execution_count": null,
   "id": "454ba91a",
   "metadata": {},
   "outputs": [],
   "source": [
    "from sklearn.preprocessing import StandardScaler\n",
    "X = music_df.drop(\"coly\", axis=1).values\n",
    "y = music_df[\"coly\"].values\n",
    "X_train, y_train, X_test, y_test = train_test_split( X, y, test_size= 0.2 , random_state= 22) \n",
    "scaler= StandardScaler()\n",
    "X_train_scaled = scaler.fit_transform(X_train)\n",
    "X_test_scaled = scaler.transform(X_test)\n"
   ]
  }
 ],
 "metadata": {
  "kernelspec": {
   "display_name": "Python 3",
   "language": "python",
   "name": "python3"
  },
  "language_info": {
   "codemirror_mode": {
    "name": "ipython",
    "version": 3
   },
   "file_extension": ".py",
   "mimetype": "text/x-python",
   "name": "python",
   "nbconvert_exporter": "python",
   "pygments_lexer": "ipython3",
   "version": "3.8.8"
  }
 },
 "nbformat": 4,
 "nbformat_minor": 5
}
