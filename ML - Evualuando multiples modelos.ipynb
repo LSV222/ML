{
 "cells": [
  {
   "cell_type": "markdown",
   "id": "f24eea7e",
   "metadata": {},
   "source": [
    "Como decidir que modelo usar? \n",
    "Principios:\n",
    " . Tamaño del dataset :  menos variables es un modelo mas simple, y tiempo de entrenamiento mas rapido . Por otro lado, algunos modelos como redes neuronales, precisan  mucha data para funcionar bien\n",
    " . Interpretabilidad : algunos modelos son mas faciles de explicar, que puede ser importante para la comunicacion. Ejemplos de esto son las regresiones lineales.\n",
    " . Flexibilidad : podemos mejorar los resultados, asumiendo menos sobre los datos. Eso es flexibilidad. KNN es mas flexible que por ejemplo algunas regresiones, dado que no asumimos que tipo de relacion entre variables.\n",
    " \n",
    "Luego la comparacion de modelos , que usan metricas similares, podemos hacerlo justamente eligiendo esas metricas y comparando.\n",
    "Recordar que KNN, Regresiones lineales ( y las regularizadas), logistic regression y redes neuronales son afectadas por 'scaling'. Entonces es bueno escalar nuestra data antes de evaluar."
   ]
  },
  {
   "cell_type": "code",
   "execution_count": 1,
   "id": "3ddaa519",
   "metadata": {},
   "outputs": [
    {
     "ename": "SyntaxError",
     "evalue": "invalid syntax (<ipython-input-1-6e57b443856e>, line 16)",
     "output_type": "error",
     "traceback": [
      "\u001b[1;36m  File \u001b[1;32m\"<ipython-input-1-6e57b443856e>\"\u001b[1;36m, line \u001b[1;32m16\u001b[0m\n\u001b[1;33m    models =\u001b[0m\n\u001b[1;37m             ^\u001b[0m\n\u001b[1;31mSyntaxError\u001b[0m\u001b[1;31m:\u001b[0m invalid syntax\n"
     ]
    }
   ],
   "source": [
    " # Ejemplo de clasificacion\n",
    "#importo paquetes\n",
    "import matplotlib.pyplto as plt\n",
    "from sklearn.preprocessing import StandardScaler\n",
    "from sklearn.model_selection import cross_Val_score, KFold, train_test_split\n",
    "from sklearn.linear_model import LogisticRegression\n",
    "from sklearn.tree import DecisionTreeClassifier\n",
    "#Creo DF y escaleo las variables\n",
    "X = df.drop(\"coly\",axis=1).values\n",
    "y = df[\"coly\"].values\n",
    "X_train,y_train, X_test, y_test = train_test_split (X ,y , random_state=22)\n",
    "scaler = StandardScaler()\n",
    "X_train_scaled = scaler.fit_transform(X_train)\n",
    "X_test_scaled = scaler.transform (X_test)\n",
    "#Creo un dic de modelos para el loop y una lista vacia para almacenar los resultados\n",
    "models = {\"Logistic Regression\": LogisticRegression() , \"KNN\": KNeighborsClassifier() ,\n",
    "          \"Decision Tree\": DecisionTreeClassifier() }\n",
    "results=[]\n",
    "for model in models.values():\n",
    "    kf= KFold(n_splits=6 , random_State=42 , shuffle=True )\n",
    "    cv_results = cross_val_score(model, X_train_scaled, y_train , cv=kf )\n",
    "    results.append(cv_results)\n",
    "plt.boxplot(results, labels=models.keys() ) \n",
    "plt.show()"
   ]
  },
  {
   "cell_type": "code",
   "execution_count": null,
   "id": "82e59b6a",
   "metadata": {},
   "outputs": [],
   "source": []
  },
  {
   "cell_type": "code",
   "execution_count": null,
   "id": "caf0c89e",
   "metadata": {},
   "outputs": [],
   "source": []
  }
 ],
 "metadata": {
  "kernelspec": {
   "display_name": "Python 3",
   "language": "python",
   "name": "python3"
  },
  "language_info": {
   "codemirror_mode": {
    "name": "ipython",
    "version": 3
   },
   "file_extension": ".py",
   "mimetype": "text/x-python",
   "name": "python",
   "nbconvert_exporter": "python",
   "pygments_lexer": "ipython3",
   "version": "3.8.8"
  }
 },
 "nbformat": 4,
 "nbformat_minor": 5
}
