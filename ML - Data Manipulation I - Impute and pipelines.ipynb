{
 "cells": [
  {
   "cell_type": "markdown",
   "id": "cc7146e9",
   "metadata": {},
   "source": [
    "## Data Manipulation\n",
    "\n",
    "MISSING DATA\n",
    "\n",
    "-Para saber cuantos nulos hay en un df :  df.isna().sum().sort_values()\n",
    "-Para quitar observaciones con nulos : df.dropna( subset =[\"col1\",\"col2\",...] )\n",
    "-Para imputar en donde hay nulos : \n",
    "    Algunas aproximaciones : - en numericos usar el promedio o la mediana  \n",
    "                             - en categoricos poner el mas comun  \n",
    "                             - para no tener errores en la imputacion primero dividir en variables numericas y categoricas\n",
    "                             - Para no tener  DATA LEAKAGE dividir primero (antes de imputar datos faltantes o erroneos) en test set y data set ; porque si por ejemplo imputo valores por el mas frecuente/mediana/o cualquier otro estadistico, si lo hago con el test set, le estoy dando data al modelo que va a llevar a que las metricas sobre el test set no sean reales.  \n",
    "                             "
   ]
  },
  {
   "cell_type": "code",
   "execution_count": null,
   "id": "ad1a34bf",
   "metadata": {},
   "outputs": [],
   "source": [
    "#imputar \n",
    "from sklearn.impute import SimpleImputer\n",
    "Xcat = df[\"categorical-col\"].values.reshape(-1,1)\n",
    "Xnum = df.drop([\"categorical-col\",\"y-col\"]).values\n",
    "y= df[\"y-col\"].values\n",
    "\n",
    "X_train_cat, X_test_cat, y_train, y_test = train_test_split(X_cat,y, test_size=0.2 , random_state=12 )\n",
    "X_train_num, X_test_num, y_train, y_test = train_test_split(X_cat,y, test_size=0.2 , random_state=12 )\n",
    "## Usamos el mismo random_state los arrays se corresponderan cuando los concatene horizontalmente"
   ]
  },
  {
   "cell_type": "code",
   "execution_count": null,
   "id": "a82a4cdc",
   "metadata": {},
   "outputs": [],
   "source": [
    "#imputar valores categoricos\n",
    "imp_cat = SimpleImputer(strategy='most_frequent')\n",
    "X_train_cat = imp_cat.fit_transform(X_train_cat)\n",
    "X_test_cat= imp_cat.transform(X_test_cat)"
   ]
  },
  {
   "cell_type": "code",
   "execution_count": null,
   "id": "7dbffbde",
   "metadata": {},
   "outputs": [],
   "source": [
    "#imputar valores numeric\n",
    "imp_cat = SimpleImputer() #por defecto es el mean\n",
    "X_train_cat = imp_cat.fit_transform(X_train_cat)\n",
    "X_test_cat= imp_cat.transform(X_test_cat)"
   ]
  },
  {
   "cell_type": "code",
   "execution_count": null,
   "id": "a8882042",
   "metadata": {},
   "outputs": [],
   "source": [
    "X_train= np.append(X_train_num , X_train_cat, axis=1 )\n",
    "X_test= np.append(X_test_num , X_test_cat, axis=1 )"
   ]
  },
  {
   "cell_type": "markdown",
   "id": "ccf74128",
   "metadata": {},
   "source": [
    "Tambien podemos imputar /transformar usando una pipeline\n",
    "Que basicamente es un objeto al que luego le vamos a poder poner distintos transformers/imputers y modelos/estimadores pero hacer los mismos pasos"
   ]
  },
  {
   "cell_type": "code",
   "execution_count": null,
   "id": "8a48478d",
   "metadata": {},
   "outputs": [],
   "source": [
    "from sklearn.pipeline import Pipeline\n",
    "music_df = music_df.dropna(subset = [\"col1\",\"col2\",\"col3\"]) #dropeo algunos valores y subseteo las columnas\n",
    "music_df[\"newcol\"] = np.where(music_df[\"col4\"]==\"valor\" ,1, 0) #con un condicional creo una bandera\n",
    "x = music_df.drop(\"newcol\",axis=1).values\n",
    "y= music_df[\"newcol\"].values\n",
    "\n",
    "steps = [( \"imputation\",SimpleImputer() ) , (\"logistic_regression\", LogisticRegression() ) ]\n",
    "#creamos pipeline\n",
    "pipeline =Pipeline(steps)\n",
    "X_train,X_test, y_train, y_test = train_test_split(X,y ,test_size=0.3 , random_state=42)\n",
    "pipeline.fit(X_train, y_train)\n",
    "pipeline.score(X_test,y_test)\n",
    "\n",
    "# Obs:  todos los pasos en un pipeline, menos el ultimo, tienen que ser un transformer\n"
   ]
  }
 ],
 "metadata": {
  "kernelspec": {
   "display_name": "Python 3",
   "language": "python",
   "name": "python3"
  },
  "language_info": {
   "codemirror_mode": {
    "name": "ipython",
    "version": 3
   },
   "file_extension": ".py",
   "mimetype": "text/x-python",
   "name": "python",
   "nbconvert_exporter": "python",
   "pygments_lexer": "ipython3",
   "version": "3.8.8"
  }
 },
 "nbformat": 4,
 "nbformat_minor": 5
}
